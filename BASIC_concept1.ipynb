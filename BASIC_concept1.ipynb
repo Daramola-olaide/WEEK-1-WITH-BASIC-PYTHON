{
 "cells": [
  {
   "cell_type": "markdown",
   "id": "3214aaff-e412-4e67-b338-3e0eb263aaee",
   "metadata": {},
   "source": [
    "# "
   ]
  },
  {
   "cell_type": "code",
   "execution_count": null,
   "id": "cbf7edf0-639c-4cc3-9618-83161bd3ee28",
   "metadata": {},
   "outputs": [],
   "source": [
    "#WEEK ONE : 25 QUESTIONS OF BASIC PYTHON CONCEPT "
   ]
  },
  {
   "cell_type": "code",
   "execution_count": 5,
   "id": "527c57d4-93bc-4b78-9132-41d04d779afb",
   "metadata": {},
   "outputs": [
    {
     "name": "stdout",
     "output_type": "stream",
     "text": [
      "Number Square\n",
      "   1   1\n",
      "Number Square\n",
      "   2   4\n",
      "Number Square\n",
      "   3   9\n",
      "Number Square\n",
      "   4   16\n",
      "Number Square\n",
      "   5   25\n"
     ]
    }
   ],
   "source": [
    "#assignment1 write a program to show such type of layout of numbers\n",
    "#numbers       square\n",
    "#1              1\n",
    "#2              4\n",
    "#3              9\n",
    "#4              16\n",
    "#5               25\n",
    "\n",
    "for i in range(1,6):\n",
    "    print(\"Number Square\")\n",
    "    print(\"   \" + str(i)+ \"   \" + str( i*i))"
   ]
  },
  {
   "cell_type": "code",
   "execution_count": 2,
   "id": "53e160bd-c5f3-4695-91ee-3a4a890e3aab",
   "metadata": {},
   "outputs": [
    {
     "name": "stdin",
     "output_type": "stream",
     "text": [
      "enter the subject name 50\n",
      "enter the mark obtained 60\n",
      "enter the mark obtained 70\n",
      "enter the mark obtained 80\n",
      "enter the mark obtained 40\n",
      "enter the mark obtained 90\n",
      "enter the mark obtained 90\n"
     ]
    },
    {
     "name": "stdout",
     "output_type": "stream",
     "text": [
      "your total_result is 430.\n",
      "your average_result is 71.66666666666667.\n",
      "subject percentage is 110.25641025641026%\n"
     ]
    }
   ],
   "source": [
    "# assignment2...write a python program to get 6 subject marks and calculate total, average and percentage of that marks\n",
    "#enter marks of 6 subjects\n",
    "subject=input(\"enter the subject name\")\n",
    "mark1=int(input(\"enter the mark obtained\"))\n",
    "mark2=int(input(\"enter the mark obtained\"))\n",
    "mark3=int(input(\"enter the mark obtained\"))\n",
    "mark4=int(input(\"enter the mark obtained\"))\n",
    "mark5=int(input(\"enter the mark obtained\"))\n",
    "mark6=int(input(\"enter the mark obtained\"))\n",
    "\n",
    "total_result=(mark1+mark2+mark3+mark4+mark5+mark6)\n",
    "print(\"your total_result is \" +str(total_result)+ \".\")\n",
    "\n",
    "average_result=((mark1+mark2+mark3+mark4+mark5+mark6)/6)\n",
    "print(\"your average_result is \" +str(average_result)+ \".\")\n",
    "\n",
    "percentage=(((mark1+mark2+mark3+mark4+mark5+mark6)*100)/390)\n",
    "print(\"subject percentage is \" +str(percentage)+ \"%\")"
   ]
  },
  {
   "cell_type": "code",
   "execution_count": 57,
   "id": "db67d604-fe46-4ea5-9746-e5c730c917fa",
   "metadata": {},
   "outputs": [
    {
     "name": "stdin",
     "output_type": "stream",
     "text": [
      "enter your name Emmanuel\n",
      "enter your age 32\n"
     ]
    },
    {
     "name": "stdout",
     "output_type": "stream",
     "text": [
      "hi Emmanuel! your age is 32\n"
     ]
    }
   ],
   "source": [
    "#assignment3...name and age from user\n",
    "name=input(\"enter your name\")\n",
    "age=input (\"enter your age\")\n",
    "print(\"hi \" + name + \"! \" + \"your age is \" + age)"
   ]
  },
  {
   "cell_type": "code",
   "execution_count": 6,
   "id": "9ded192b-3a48-4d5f-b374-8b670cb5145f",
   "metadata": {},
   "outputs": [
    {
     "name": "stdin",
     "output_type": "stream",
     "text": [
      "enter the length 50\n",
      "enter the breadth 60\n"
     ]
    },
    {
     "name": "stdout",
     "output_type": "stream",
     "text": [
      "area_of_a_rectangle = 1500.0.\n"
     ]
    }
   ],
   "source": [
    "#assignment4... write a python program to calculate the area of a rectangle\n",
    "length=int(input(\"enter the length\"))\n",
    "breadth=int(input(\"enter the breadth\"))\n",
    "\n",
    "area_of_a_rectangle=((length*breadth)/2)\n",
    "print(\"area_of_a_rectangle = \" +str(area_of_a_rectangle)+ \".\")\n",
    "            \n",
    "           "
   ]
  },
  {
   "cell_type": "code",
   "execution_count": 21,
   "id": "012f126a-1768-4dee-8b9a-529cd8a42a37",
   "metadata": {},
   "outputs": [
    {
     "name": "stdin",
     "output_type": "stream",
     "text": [
      "enter your address london\n",
      "enter your mark 76\n"
     ]
    },
    {
     "name": "stdout",
     "output_type": "stream",
     "text": [
      " Hey, your address is london and your mark is 76\n"
     ]
    }
   ],
   "source": [
    "#assignment5...write a program to get marks and address from the user and display on the screen in this format\n",
    "#expected result: your address is \" \" and your marks is \" \"\n",
    "\n",
    "address= input(\"enter your address\")\n",
    "mark=input(\"enter your mark\")\n",
    "print(\" Hey, your address is \" + address + \" and your mark is \" + mark)"
   ]
  },
  {
   "cell_type": "code",
   "execution_count": 40,
   "id": "0f9c32c1-b320-4448-9d9c-001d476fd170",
   "metadata": {},
   "outputs": [
    {
     "name": "stdin",
     "output_type": "stream",
     "text": [
      "enter your name Emmanuel\n",
      "enter your age 15\n"
     ]
    },
    {
     "name": "stdout",
     "output_type": "stream",
     "text": [
      "sorry! you cannot participate in voting, because your age is 15, you will be able to participate in 3years\n"
     ]
    }
   ],
   "source": [
    "#assignment6...write a python program to get age from the user to check whether user able to participate\n",
    "#in voting or not. if age is less than 18, then it dont allow to participate and show after how\n",
    "#many years a person will be able to participate:\n",
    "\n",
    "#expected result:\n",
    "# sorry! you cannot participate in voting, you will be able to participate after 8 years.\n",
    "\n",
    "name=input(\"enter your name\")\n",
    "age=int(input(\"enter your age\"))\n",
    "\n",
    "if (age>=18):\n",
    "    print(\"hi,\" +name+ \" kindly go ahead and vote\")\n",
    "else:\n",
    "    print(\"sorry! you cannot participate in voting, because your age is \"+str(age)+ \", you will be able to participate in \"+str(18-age)+\"years\")\n"
   ]
  },
  {
   "cell_type": "code",
   "execution_count": 63,
   "id": "4081e100-e453-4f3b-a60e-f60d94906d10",
   "metadata": {},
   "outputs": [
    {
     "name": "stdin",
     "output_type": "stream",
     "text": [
      "enter your name Emmanuel\n",
      "enter you mark 48\n"
     ]
    },
    {
     "name": "stdout",
     "output_type": "stream",
     "text": [
      "sorry you cannot take admission, you need 12 more marks to take admission.\n"
     ]
    }
   ],
   "source": [
    "#assignment7...write a python program to get marks from the user to check whether user get admission in college or not. if mark is less \n",
    "#than 60, then it dont allow to take admission\n",
    "#expected result:\n",
    "#sorry you cannot take admissio, you need 10 numbers more to take admission\n",
    "\n",
    "name=input(\"enter your name\")\n",
    "mark=int(input(\"enter you mark\"))\n",
    "if (mark >60):\n",
    "    print (\"congratulations \"+name+\", you are admitted\")\n",
    "else:\n",
    "    print(\"sorry you cannot take admission, you need \"+str(60-int(mark))+ \" more marks to take admission.\") \n"
   ]
  },
  {
   "cell_type": "code",
   "execution_count": 49,
   "id": "eeed015f-9ac1-4b92-9a22-ff4b50eb160b",
   "metadata": {},
   "outputs": [
    {
     "name": "stdout",
     "output_type": "stream",
     "text": [
      "{1, 2, 3, 4, 5, 6, 7, 8, 12}\n"
     ]
    }
   ],
   "source": [
    "#assignment8...write a python to calculate union of two set\n",
    "A={3,2,4,5,6,7,8}\n",
    "B={1,12,2,6,7,8}\n",
    "\n",
    "C=A.union(B)\n",
    "print(C)"
   ]
  },
  {
   "cell_type": "code",
   "execution_count": 50,
   "id": "ec230035-cbe9-4edf-be55-60d79f242671",
   "metadata": {},
   "outputs": [
    {
     "name": "stdout",
     "output_type": "stream",
     "text": [
      "{1, 5}\n"
     ]
    }
   ],
   "source": [
    "#assignment9...write a python program to calculate intersection of two set\n",
    "A={5,2,4,6,7,1}\n",
    "B={5,3,1}\n",
    "\n",
    "C=A.intersection(B)\n",
    "print(C)"
   ]
  },
  {
   "cell_type": "code",
   "execution_count": 51,
   "id": "c0006e8a-0831-43c0-8e2f-a23c748463b8",
   "metadata": {},
   "outputs": [
    {
     "name": "stdout",
     "output_type": "stream",
     "text": [
      "{8, 2, 12, 7}\n"
     ]
    }
   ],
   "source": [
    "#assignment9...write a python program to calculate difference of two set\n",
    "A={1,12,2,6,7,8}\n",
    "B={15,0,1,3,6}\n",
    "\n",
    "C=A.difference(B)\n",
    "print(C)"
   ]
  },
  {
   "cell_type": "code",
   "execution_count": 84,
   "id": "654cb4b1-e57b-49d6-975c-2831dea8412e",
   "metadata": {},
   "outputs": [
    {
     "name": "stdin",
     "output_type": "stream",
     "text": [
      "enter a number 2\n"
     ]
    },
    {
     "name": "stdout",
     "output_type": "stream",
     "text": [
      "1 * 2 = 2 \n",
      "2 * 2 = 4 \n",
      "3 * 2 = 6 \n",
      "4 * 2 = 8 \n",
      "5 * 2 = 10 \n",
      "6 * 2 = 12 \n",
      "7 * 2 = 14 \n",
      "8 * 2 = 16 \n",
      "9 * 2 = 18 \n",
      "10 * 2 = 20 \n",
      "11 * 2 = 22 \n",
      "12 * 2 = 24 \n"
     ]
    }
   ],
   "source": [
    "#assignment10...write a python to get number from the user and display table for that number\n",
    "\n",
    "number=int(input(\"enter a number\"))\n",
    "for i in range(1,13):\n",
    "    print(str(i)+\" * \" + str(number)+ \" = \"+ str(i*number)+ \" \")"
   ]
  },
  {
   "cell_type": "code",
   "execution_count": 3,
   "id": "da5889db-e8ce-455c-b870-0a3e056092dc",
   "metadata": {},
   "outputs": [
    {
     "name": "stdin",
     "output_type": "stream",
     "text": [
      "enter a first number 2\n"
     ]
    },
    {
     "name": "stdout",
     "output_type": "stream",
     "text": [
      "1 * 2 = 2 \n",
      "2 * 2 = 4 \n",
      "3 * 2 = 6 \n",
      "4 * 2 = 8 \n",
      "5 * 2 = 10 \n",
      "6 * 2 = 12 \n",
      "7 * 2 = 14 \n",
      "8 * 2 = 16 \n",
      "9 * 2 = 18 \n",
      "10 * 2 = 20 \n",
      "11 * 2 = 22 \n",
      "12 * 2 = 24 \n"
     ]
    },
    {
     "name": "stdin",
     "output_type": "stream",
     "text": [
      "enter a second number 3\n"
     ]
    },
    {
     "name": "stdout",
     "output_type": "stream",
     "text": [
      "1 * 3 = 3 \n",
      "2 * 3 = 6 \n",
      "3 * 3 = 9 \n",
      "4 * 3 = 12 \n",
      "5 * 3 = 15 \n",
      "6 * 3 = 18 \n",
      "7 * 3 = 21 \n",
      "8 * 3 = 24 \n",
      "9 * 3 = 27 \n",
      "10 * 3 = 30 \n",
      "11 * 3 = 33 \n",
      "12 * 3 = 36 \n"
     ]
    }
   ],
   "source": [
    "#assignment11...write a python program to get 2 numbers from the user and display 2 tables for that number\n",
    "\n",
    "first_num=int(input(\"enter a first number\"))\n",
    "\n",
    "for i in range (1,13):\n",
    "    first_table=(str(i)+ \" * \" + str(first_num)+ \" = \" +str(i * first_num)+ \" \")\n",
    "    print(first_table)\n",
    "\n",
    "second_num=int(input(\"enter a second number\"))\n",
    "for i in range (1,13):\n",
    "    second_table=(str(i)+ \" * \" + str(second_num)+ \" = \" +str(i * second_num)+ \" \")\n",
    "    print(second_table)"
   ]
  },
  {
   "cell_type": "code",
   "execution_count": 5,
   "id": "d48902ce-1e3e-47e8-9c24-17f1fad50a3b",
   "metadata": {},
   "outputs": [
    {
     "name": "stdin",
     "output_type": "stream",
     "text": [
      "enter a number 10\n",
      "enter a number 20\n",
      "enter a number 40\n"
     ]
    },
    {
     "name": "stdout",
     "output_type": "stream",
     "text": [
      "solution to the above equation = 1630.0\n"
     ]
    }
   ],
   "source": [
    "#assignment12...write a python program to get 3 number from user and put in the following equation:\n",
    "#a+b+ca/b(2a+3b)\n",
    "\n",
    "a=int(input(\"enter a number\"))\n",
    "b=int(input(\"enter a number\"))\n",
    "c=int(input(\"enter a number\"))\n",
    "\n",
    "equation= (a+b+c*a/b*(2*a+3*b))\n",
    "print(\"solution to the above equation = \" + str(equation))"
   ]
  },
  {
   "cell_type": "code",
   "execution_count": 11,
   "id": "b94887bd-4de0-4f20-96b3-f89f4a1dbf7d",
   "metadata": {},
   "outputs": [
    {
     "name": "stdin",
     "output_type": "stream",
     "text": [
      "Enter your mark 65\n"
     ]
    },
    {
     "name": "stdout",
     "output_type": "stream",
     "text": [
      "your grade is C\n"
     ]
    }
   ],
   "source": [
    "#assignment13...write a python program to get marks of students to find its grade\n",
    "\n",
    "grade=int(input(\"Enter your mark\"))\n",
    "if (grade>=95):\n",
    "    print(\"your grade is A*\")\n",
    "elif (grade>=80):\n",
    "    print(\"your grade is A\")\n",
    "elif (grade>=70):\n",
    "    print(\"your grade is B\")\n",
    "elif (grade>=60):\n",
    "    print(\"your grade is C\")\n",
    "else:\n",
    "    print(\"fail\")\n",
    "          "
   ]
  },
  {
   "cell_type": "code",
   "execution_count": 38,
   "id": "28a10df6-eed9-46ee-b737-0d78f1d21f4a",
   "metadata": {},
   "outputs": [
    {
     "name": "stdin",
     "output_type": "stream",
     "text": [
      "enter a color name bl\n",
      "enter a color name ye\n",
      "enter a color name gr\n",
      "enter a color name wh\n",
      "enter a color name red\n"
     ]
    },
    {
     "name": "stdout",
     "output_type": "stream",
     "text": [
      "['green', 'yellow', 'blue', 'pink', 'bl', 'ye', 'gr', 'wh', 'red']\n",
      "red\n",
      "['green', 'yellow', 'blue', 'pink', 'bl', 'ye', 'gr', 'wh']\n"
     ]
    }
   ],
   "source": [
    "#assignment14...write a python program to get five color name from the user in list,\n",
    "#display that list, \n",
    "#remove last color,\n",
    "#then display all the colors to users\n",
    "\n",
    "color_list= [ ]\n",
    "for i in range(5):\n",
    "    color_list.append(input(\"enter a color name\"))\n",
    "print(color_list)                        \n",
    "color_list_1=color_list.pop()    #pop removes last value in a list\n",
    "print(color_list_1)\n",
    "print(color_list)\n",
    "\n",
    "\n"
   ]
  },
  {
   "cell_type": "code",
   "execution_count": 25,
   "id": "5f3f79b5-33d9-479d-b4c2-61d6710d75bd",
   "metadata": {},
   "outputs": [
    {
     "name": "stdout",
     "output_type": "stream",
     "text": [
      "student name without f = ['brain', 'jotter', 'sabinus', 'gbenga', 'adeyinka', 'lasis', 'wisabi', 'pemiwa']\n"
     ]
    }
   ],
   "source": [
    "#assignment15...write a program to display all the student name except with start 'f' char\n",
    "\n",
    "#list of student name\n",
    "student_name=[\"brain\", \"jotter\", \"sabinus\", \"funnybone\", \"gbenga\",\"farmy\", \"adeyinka\", \"lasis\",\"wisabi\",\"pemiwa\"]\n",
    "\n",
    "#filtering out student name with f char\n",
    "student_name=[name for name in student_name if not name.startswith('f')]\n",
    "                               \n",
    "print(\"student name without f = \" +str (student_name) )\n",
    "\n"
   ]
  },
  {
   "cell_type": "code",
   "execution_count": 10,
   "id": "18175ecf-123e-4bd8-a075-e05fcacc3d18",
   "metadata": {},
   "outputs": [
    {
     "name": "stdin",
     "output_type": "stream",
     "text": [
      "enter student name tamu\n",
      "enter student name peterside\n",
      "enter student name yola\n",
      "enter student name rio\n",
      "enter student name micheal\n",
      "enter student name nigeria\n",
      "enter student name bill\n",
      "enter student name graham\n",
      "enter student name chase\n",
      "enter student name gladys\n"
     ]
    },
    {
     "name": "stdout",
     "output_type": "stream",
     "text": [
      "name of student in list =['tamu', 'peterside', 'yola', 'rio', 'micheal', 'nigeria', 'bill', 'graham', 'chase', 'gladys']\n",
      "name of student in descending order = ['yola', 'tamu', 'rio', 'peterside', 'nigeria', 'micheal', 'graham', 'gladys', 'chase', 'bill']\n"
     ]
    }
   ],
   "source": [
    "#assignment16...write a python program to get 10 names of the student from the user in a list\n",
    "# display that student's name in descending order\n",
    "\n",
    "#to get student name in list\n",
    "student_list=[]\n",
    "for i in range(10):\n",
    "\n",
    "#to get the 10 names from the user\n",
    "    student_list.append(input(\"enter student name\"))\n",
    "print(\"name of student in list =\" + str(student_list))\n",
    "\n",
    "#to get names in descending order\n",
    "student_list.sort(reverse=True)\n",
    "print(\"name of student in descending order = \" + str(student_list))\n",
    "                        "
   ]
  },
  {
   "cell_type": "code",
   "execution_count": 2,
   "id": "99818232-642c-4d2b-95b5-30f3b5753159",
   "metadata": {},
   "outputs": [
    {
     "name": "stdout",
     "output_type": "stream",
     "text": [
      "color in the list =['green', 'yellow', 'pink', 'green', 'white', 'violet']\n",
      "total color in the list =6\n"
     ]
    }
   ],
   "source": [
    "#assignment17... write a python program to store the name of the color, in the list and count\n",
    "#that color and display the result to user\n",
    "\n",
    "list1=['green', 'yellow', 'pink', 'green', 'white', 'violet']\n",
    "\n",
    "print(\"color in the list =\" + str(list1))\n",
    "\n",
    "print(\"total color in the list =\" + str(len(list1)))\n"
   ]
  },
  {
   "cell_type": "code",
   "execution_count": 41,
   "id": "0557fd05-40c7-440f-b0fb-8c6d018cd4ff",
   "metadata": {},
   "outputs": [
    {
     "name": "stdout",
     "output_type": "stream",
     "text": [
      "['adeyinka', 'brain', 'funi', 'gbenga', 'jotter', 'lasis', 'pemiwa', 'sabinus', 'wisabi']\n",
      "student name with at most 5 character =['brain', 'funi', 'lasis']\n"
     ]
    }
   ],
   "source": [
    "#assignment18...write a python program to sort student name in ascending order in list and student should \n",
    "    #display which contain only at most 5 character \n",
    "\n",
    "student_name=[\"brain\", \"jotter\", \"sabinus\", \"gbenga\",\"adeyinka\",\"lasis\",\"wisabi\",\"pemiwa\", \"funi\"]\n",
    "\n",
    "#sort name in ascending order\n",
    "student_name.sort()\n",
    "\n",
    "#filter name with at most 5 character\n",
    "name_filter =[ name for name in student_name if len(name)<=5]\n",
    "\n",
    "#display\n",
    "print(student_name)\n",
    "print(\"student name with at most 5 character =\" + str(name_filter))\n",
    "\n",
    "\n",
    "\n",
    "#brb"
   ]
  },
  {
   "cell_type": "code",
   "execution_count": 26,
   "id": "54b7c59e-5302-4f8c-bb4f-fbc413e8a445",
   "metadata": {},
   "outputs": [
    {
     "name": "stdin",
     "output_type": "stream",
     "text": [
      "write a full sentence my mom has gone to london to see the king\n"
     ]
    },
    {
     "name": "stdout",
     "output_type": "stream",
     "text": [
      "MY MOM HAS GONE TO LONDON TO SEE THE KING\n"
     ]
    }
   ],
   "source": [
    "#assignment19...Write a python program to get a sentence from a user and make it capitalize\n",
    "\n",
    "sentence=input(\"write a full sentence\")\n",
    "\n",
    "#to capitalize your sentence\n",
    "change=sentence.upper()    #upper changes values to upper case\n",
    "\n",
    "print(change)"
   ]
  },
  {
   "cell_type": "code",
   "execution_count": 45,
   "id": "3ad346fe-bc23-4a0c-aeff-85c0c62d51c8",
   "metadata": {},
   "outputs": [
    {
     "name": "stdin",
     "output_type": "stream",
     "text": [
      "write a full sentence write a full sentence i have always been fascinated by the power of data to tell stories and drive informed decicion-making. i am excited about the prospect of pursuing a career in data analysis because it offers  a unique blend of technical skills.\n"
     ]
    },
    {
     "name": "stdout",
     "output_type": "stream",
     "text": [
      "total number of character =249\n"
     ]
    }
   ],
   "source": [
    "#assignment20...Write a python program to get a bio from a user and count number of character \n",
    "# and word in bio description\n",
    "\n",
    "bio=input(\"write a full sentence\")\n",
    "\n",
    "print(\"total number of character =\" + str(len(bio)))           #len is used to get the number of character                  "
   ]
  },
  {
   "cell_type": "code",
   "execution_count": 7,
   "id": "5cff25d8-116c-4b4e-9367-69cec9b6607f",
   "metadata": {},
   "outputs": [
    {
     "name": "stdin",
     "output_type": "stream",
     "text": [
      "enter a number 3\n"
     ]
    },
    {
     "name": "stdout",
     "output_type": "stream",
     "text": [
      "27\n"
     ]
    }
   ],
   "source": [
    "#assignment21...write a python program to get a number from a user and find the cube of that number\n",
    "\n",
    "#get number from a user\n",
    "number=int(input(\"enter a number\"))\n",
    "\n",
    "#find the cube of that number\n",
    "cube=number**3\n",
    "\n",
    "print(cube)"
   ]
  },
  {
   "cell_type": "code",
   "execution_count": 55,
   "id": "e592356d-27b9-4eef-818f-a371bcb71628",
   "metadata": {},
   "outputs": [
    {
     "name": "stdout",
     "output_type": "stream",
     "text": [
      "Number  Square   Cube   Addition(square+cube)\n",
      "1        1         1        2\n",
      "2        4         8        12\n",
      "3        9         27        36\n",
      "4        16         64        80\n",
      "5        25         125        150\n",
      "6        36         216        252\n",
      "7        49         343        392\n",
      "8        64         512        576\n",
      "9        81         729        810\n",
      "10        100         1000        1100\n"
     ]
    }
   ],
   "source": [
    "#assignment22...write a python program to generate 1 to 10 numbers with their square and cube\n",
    "# and also display their addition (square+cube)\n",
    "\n",
    "print(\"Number  Square   Cube   Addition(square+cube)\")\n",
    "for i in range(1,11):\n",
    "    print(str(i) + \"        \" + str( i**2) + \"         \" + str(i**3) + \"        \" + str(( i**2) + (i**3)) )\n",
    "\n"
   ]
  },
  {
   "cell_type": "code",
   "execution_count": 53,
   "id": "65006e96-5f84-4664-9c82-71edbc76b178",
   "metadata": {},
   "outputs": [
    {
     "name": "stdin",
     "output_type": "stream",
     "text": [
      "enter a number 23\n"
     ]
    },
    {
     "name": "stdout",
     "output_type": "stream",
     "text": [
      "correct\n"
     ]
    }
   ],
   "source": [
    "#assignment23...write a python program to display number from 1 to 30, only odd number\n",
    "\n",
    "#get number from user\n",
    "call_num= int(input(\"enter a number\"))\n",
    "\n",
    "#filter number \n",
    "if (call_num <=30 and call_num%2 !=0 ):\n",
    "    print(\"correct\")\n",
    "\n",
    "else:\n",
    "    print(\"not correct\")"
   ]
  },
  {
   "cell_type": "code",
   "execution_count": 5,
   "id": "26cff9eb-4890-45d1-8914-fd36545a9568",
   "metadata": {},
   "outputs": [
    {
     "name": "stdin",
     "output_type": "stream",
     "text": [
      "enter a number: 37\n"
     ]
    },
    {
     "name": "stdout",
     "output_type": "stream",
     "text": [
      "number is indivisible by 2 or 3\n"
     ]
    }
   ],
   "source": [
    "#assignment24...write a python program to get a number from user to check if divisble by 2 and 3\n",
    "\n",
    "#get number from user\n",
    "number=int(input(\"enter a number:\"))\n",
    "\n",
    "#to check if divisible by 2 or 3\n",
    "if (number%2==0):\n",
    "        print(\"number is divisible by 2\")\n",
    "elif (number%3==0):\n",
    "    print(\"number is divisible by 3\")\n",
    "#print if not\n",
    "else:\n",
    "    print(\"number is indivisible by 2 or 3\")\n",
    "    "
   ]
  },
  {
   "cell_type": "code",
   "execution_count": 11,
   "id": "f51a8ba3-87ab-4c83-a1c3-d58cd384f0d5",
   "metadata": {},
   "outputs": [
    {
     "name": "stdout",
     "output_type": "stream",
     "text": [
      "number of integer =5\n",
      "number of integer =2\n",
      "number of integer =3\n"
     ]
    }
   ],
   "source": [
    "#assignment25...write a python program to get 10 data item from user, how much is integer, float, string\n",
    "#data is stored in a list\n",
    "\n",
    "data_list=[4, 2, 54, 6.8, 'funnybone', 5.2, 43, 'noone', 'cleaner', 3]  #get data in list\n",
    "int_type=0\n",
    "float_type=0\n",
    "str_type=0\n",
    "for i in data_list:\n",
    "    if (type(i)==int):\n",
    "        int_type +=1\n",
    "    if (type(i)==float):\n",
    "        float_type +=1\n",
    "    if (type(i)==str):\n",
    "        str_type +=1\n",
    "print(\"number of integer =\" + str(int_type))\n",
    "print(\"number of integer =\" + str(float_type))\n",
    "print(\"number of integer =\" + str(str_type))\n",
    "    \n",
    "    \n",
    "#print(data_list)"
   ]
  }
 ],
 "metadata": {
  "kernelspec": {
   "display_name": "Python 3 (ipykernel)",
   "language": "python",
   "name": "python3"
  },
  "language_info": {
   "codemirror_mode": {
    "name": "ipython",
    "version": 3
   },
   "file_extension": ".py",
   "mimetype": "text/x-python",
   "name": "python",
   "nbconvert_exporter": "python",
   "pygments_lexer": "ipython3",
   "version": "3.11.5"
  }
 },
 "nbformat": 4,
 "nbformat_minor": 5
}
